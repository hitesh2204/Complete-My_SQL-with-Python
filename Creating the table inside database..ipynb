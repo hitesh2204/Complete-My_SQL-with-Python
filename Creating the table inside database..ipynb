{
 "cells": [
  {
   "cell_type": "markdown",
   "metadata": {},
   "source": [
    "### Creating the table inside Database."
   ]
  },
  {
   "cell_type": "code",
   "execution_count": 1,
   "metadata": {},
   "outputs": [
    {
     "name": "stdout",
     "output_type": "stream",
     "text": [
      "<mysql.connector.connection_cext.CMySQLConnection object at 0x0000007CE2744C08>\n"
     ]
    }
   ],
   "source": [
    "### Create My-SQL Connection.\n",
    "### Importing Important libraries.\n",
    "\n",
    "import mysql.connector as sql\n",
    "\n",
    "connection=sql.connect( host=\"localhost\",\n",
    "                        user=\"root\",\n",
    "                        password=\"hitesh2204\",\n",
    "                        database='student')\n",
    "\n",
    "print(connection)"
   ]
  },
  {
   "cell_type": "code",
   "execution_count": 3,
   "metadata": {},
   "outputs": [],
   "source": [
    "cursor=connection.cursor()\n",
    "\n",
    "cursor.execute(\"drop table studeinfo\")"
   ]
  },
  {
   "cell_type": "code",
   "execution_count": 4,
   "metadata": {},
   "outputs": [],
   "source": [
    "\n",
    "cursor.execute(\"CREATE TABLE studeinfo(stud_id INT AUTO_INCREMENT PRIMARY KEY,stud_name VARCHAR(100),subject VARCHAR(20))\")"
   ]
  },
  {
   "cell_type": "markdown",
   "metadata": {},
   "source": [
    "### Inserting record into tables."
   ]
  },
  {
   "cell_type": "code",
   "execution_count": 5,
   "metadata": {},
   "outputs": [
    {
     "name": "stdout",
     "output_type": "stream",
     "text": [
      "Row Inserted 1\n"
     ]
    }
   ],
   "source": [
    "query=\"insert into studeinfo(stud_name,subject) values(%s,%s)\"\n",
    "values=(\"Hitesh\",\"Data Science\")\n",
    "cursor.execute(query,values)\n",
    "print(\"Row Inserted\",cursor.lastrowid)"
   ]
  },
  {
   "cell_type": "code",
   "execution_count": 6,
   "metadata": {},
   "outputs": [],
   "source": [
    "### Display the ecord from table.\n",
    "cursor.execute(\"select * from studeinfo\")"
   ]
  },
  {
   "cell_type": "code",
   "execution_count": 7,
   "metadata": {},
   "outputs": [
    {
     "data": {
      "text/plain": [
       "[(1, 'Hitesh', 'Data Science')]"
      ]
     },
     "execution_count": 7,
     "metadata": {},
     "output_type": "execute_result"
    }
   ],
   "source": [
    "### Fetching all data from student table.\n",
    "cursor.fetchall()"
   ]
  },
  {
   "cell_type": "markdown",
   "metadata": {},
   "source": [
    "### Inserting multiple records in Table."
   ]
  },
  {
   "cell_type": "code",
   "execution_count": 8,
   "metadata": {},
   "outputs": [
    {
     "name": "stdout",
     "output_type": "stream",
     "text": [
      "Row Inserted 2\n"
     ]
    }
   ],
   "source": [
    "Query=\"insert into studeinfo(stud_name,subject) values( %s,%s)\"\n",
    "values=[(\"Virat\",\"Maths\"),\n",
    "        (\"Mahi\",\"Economics\"),\n",
    "        (\"Palash\",\"Science\"),\n",
    "        (\"Sannidhya\",\"Machine Learning\"),\n",
    "        (\"Pranay\",\"Deep Leaning\")]\n",
    "\n",
    "cursor.executemany(Query,values)\n",
    "print(\"Row Inserted\",cursor.lastrowid)"
   ]
  },
  {
   "cell_type": "code",
   "execution_count": 10,
   "metadata": {},
   "outputs": [
    {
     "data": {
      "text/plain": [
       "[(1, 'Hitesh', 'Data Science'),\n",
       " (2, 'Virat', 'Maths'),\n",
       " (3, 'Mahi', 'Economics'),\n",
       " (4, 'Palash', 'Science'),\n",
       " (5, 'Sannidhya', 'Machine Learning'),\n",
       " (6, 'Pranay', 'Deep Leaning')]"
      ]
     },
     "execution_count": 10,
     "metadata": {},
     "output_type": "execute_result"
    }
   ],
   "source": [
    "### Fetching all records from student tables.\n",
    "cursor.execute(\"select * from studeinfo\")\n",
    "cursor.fetchall()"
   ]
  },
  {
   "cell_type": "code",
   "execution_count": 12,
   "metadata": {},
   "outputs": [],
   "source": [
    "### fetching one record at a time form studnet tables.\n",
    "cursor.execute(\"select * from studeinfo\")"
   ]
  },
  {
   "cell_type": "code",
   "execution_count": 19,
   "metadata": {},
   "outputs": [],
   "source": [
    "cursor.fetchone()"
   ]
  },
  {
   "cell_type": "code",
   "execution_count": 20,
   "metadata": {},
   "outputs": [],
   "source": [
    "### Selecting the perticular rrecords from table.\n",
    "cursor.execute(\"select * from studeinfo where stud_name='Hitesh'\")"
   ]
  },
  {
   "cell_type": "code",
   "execution_count": 21,
   "metadata": {},
   "outputs": [
    {
     "data": {
      "text/plain": [
       "[(1, 'Hitesh', 'Data Science')]"
      ]
     },
     "execution_count": 21,
     "metadata": {},
     "output_type": "execute_result"
    }
   ],
   "source": [
    "cursor.fetchall()"
   ]
  },
  {
   "cell_type": "code",
   "execution_count": 22,
   "metadata": {},
   "outputs": [],
   "source": [
    "### Selecting the columns form student table.\n",
    "cursor.execute(\"select stud_name from studeinfo\")"
   ]
  },
  {
   "cell_type": "code",
   "execution_count": 23,
   "metadata": {},
   "outputs": [
    {
     "data": {
      "text/plain": [
       "[('Hitesh',), ('Virat',), ('Mahi',), ('Palash',), ('Sannidhya',), ('Pranay',)]"
      ]
     },
     "execution_count": 23,
     "metadata": {},
     "output_type": "execute_result"
    }
   ],
   "source": [
    "cursor.fetchall()"
   ]
  },
  {
   "cell_type": "code",
   "execution_count": null,
   "metadata": {},
   "outputs": [],
   "source": []
  }
 ],
 "metadata": {
  "kernelspec": {
   "display_name": "Python 3",
   "language": "python",
   "name": "python3"
  },
  "language_info": {
   "codemirror_mode": {
    "name": "ipython",
    "version": 3
   },
   "file_extension": ".py",
   "mimetype": "text/x-python",
   "name": "python",
   "nbconvert_exporter": "python",
   "pygments_lexer": "ipython3",
   "version": "3.7.6"
  }
 },
 "nbformat": 4,
 "nbformat_minor": 4
}
